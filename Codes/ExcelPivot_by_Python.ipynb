{
 "cells": [
  {
   "cell_type": "markdown",
   "metadata": {},
   "source": [
    "# Build Pivot Tables in Excel Using Python"
   ]
  },
  {
   "cell_type": "markdown",
   "metadata": {},
   "source": [
    "__Summary:__ In this tutorial, we shall use Python to build pivot tables in excel. This could be a really handy tool for report automation in Analytics domian"
   ]
  },
  {
   "cell_type": "code",
   "execution_count": 1,
   "metadata": {},
   "outputs": [],
   "source": [
    "import win32com.client as win32\n",
    "from pywintypes import com_error\n",
    "from pathlib import Path\n",
    "import sys\n",
    "import os\n",
    "# Required to generate random data for simulation\n",
    "import random\n",
    "import pandas as pd\n",
    "import numpy as np\n",
    "from datetime import datetime, date"
   ]
  },
  {
   "cell_type": "code",
   "execution_count": 2,
   "metadata": {},
   "outputs": [],
   "source": [
    "os.chdir(\"../Files\")"
   ]
  },
  {
   "cell_type": "code",
   "execution_count": 3,
   "metadata": {},
   "outputs": [],
   "source": [
    "# Get win32 constants\n",
    "win32c = win32.constants"
   ]
  },
  {
   "cell_type": "markdown",
   "metadata": {},
   "source": [
    "       "
   ]
  },
  {
   "cell_type": "markdown",
   "metadata": {},
   "source": [
    "### Steps:\n",
    "[1 Generate Data](#GD)<br>\n",
    "[2 Function to create Pivot Table](#FPT)<br>\n",
    "[3 Create excel file and call Pivot table function](#CPTF)<br>\n",
    "[4 Main function](#MF)<br>"
   ]
  },
  {
   "cell_type": "markdown",
   "metadata": {},
   "source": [
    "        "
   ]
  },
  {
   "cell_type": "markdown",
   "metadata": {},
   "source": [
    "<a id=\"GD\"></a>\n",
    "### 1. Generate Data<br>\n",
    "\n",
    "As a first step, we shall generate random data in excel file. If you already have a excel file with data, feel free to skip this part. We shall generate a data of size 10,000 with below four columns\n",
    "<ol>\n",
    "    <li>Date: Random date</li>\n",
    "    <li>Expense: Type - String; Options - \"Personal\", \"Business\", or \"Misc\"</li>\n",
    "    <li>Products: Type - String; Options - \"Coffee\", \"Dinner\", \"Stationary\", \"Fuel\"</li>\n",
    "    <li>Price: Type - int, normally distributed with mean: 25, and standard deviation: 10</li>\n",
    "    </ol>"
   ]
  },
  {
   "cell_type": "code",
   "execution_count": 4,
   "metadata": {},
   "outputs": [],
   "source": [
    "def create_excel_file(f_path: Path, f_name: str, sheet_name: str):\n",
    "    \"\"\"\n",
    "    f_path: Path where to store the excel file\n",
    "    f_name: Name of the excel file\n",
    "    sheet_name: Excel sheet name (where synthetic data will be stored)\n",
    "    \"\"\"\n",
    "    filename = f_path / f_name\n",
    "    random.seed(365)\n",
    "    np.random.seed(365)\n",
    "    number_of_data_rows = 10000\n",
    "    \n",
    "    # create list of 31 dates\n",
    "    dates = pd.bdate_range(date.today(), freq='1d', periods=31).tolist()\n",
    "\n",
    "    # Create random data points\n",
    "    data = {'Date': [random.choice(dates) for _ in range(number_of_data_rows)],\n",
    "            'Expense': [random.choice(['Personal', 'Business', 'Misc']) for _ in range(number_of_data_rows)],\n",
    "            'Products': [random.choice(['Coffee', 'Dinner', 'Stationary', 'Fuel']) for _ in range(number_of_data_rows)],\n",
    "            'Price': np.random.normal(25, 10, size=(1, number_of_data_rows))[0]}\n",
    "\n",
    "    # create the dataframe and save it to Excel\n",
    "    pd.DataFrame(data).to_excel(filename, index=False, sheet_name=sheet_name, float_format='%.4f')\n",
    "    return"
   ]
  },
  {
   "cell_type": "markdown",
   "metadata": {},
   "source": [
    "          "
   ]
  },
  {
   "cell_type": "markdown",
   "metadata": {},
   "source": [
    "<a id=\"FPT\"></a>\n",
    "### 2. Function to create Pivot Table<br>\n",
    "\n",
    "__Summary:__ Below function creates a pivot table in excel given the defined inputs"
   ]
  },
  {
   "cell_type": "code",
   "execution_count": 5,
   "metadata": {},
   "outputs": [],
   "source": [
    "def pivot_table(wb: object, ws: object, pt_ws: object, ws_name: str, pt_name: str,\n",
    "                pt_rows: list, pt_cols: list, pt_filters: list, pt_fields: list):\n",
    "    \"\"\"\n",
    "    wb: workbook reference\n",
    "    ws: worksheet with data (to be used in pivot table)\n",
    "    pt_ws: pivot table worksheet number\n",
    "    ws_name: pivot table worksheet name\n",
    "    pt_name: pivot table name\n",
    "    pt_rows: rows of pivot table\n",
    "    pt_cols: columns of pivot table\n",
    "    pt_filters: filters of pivot table\n",
    "    pt_fields: values selected for filling the pivot tables\n",
    "    \"\"\"\n",
    "\n",
    "    # pivot table location\n",
    "    pt_loc = len(pt_filters) + 2\n",
    "    \n",
    "    # grab the pivot table source data\n",
    "    pc = wb.PivotCaches().Create(SourceType=win32c.xlDatabase, SourceData=ws.UsedRange)\n",
    "    \n",
    "    # create the pivot table object\n",
    "    pc.CreatePivotTable(TableDestination=f'{ws_name}!R{pt_loc}C1', TableName=pt_name)\n",
    "\n",
    "    # selecte the pivot table work sheet and location to create the pivot table\n",
    "    pt_ws.Select()\n",
    "    pt_ws.Cells(pt_loc, 1).Select()\n",
    "\n",
    "    # Sets the rows, columns and filters of the pivot table\n",
    "    for field_list, field_r in ((pt_filters, win32c.xlPageField), (pt_rows, win32c.xlRowField),\n",
    "                                (pt_cols, win32c.xlColumnField)):\n",
    "        for i, value in enumerate(field_list):\n",
    "            pt_ws.PivotTables(pt_name).PivotFields(value).Orientation = field_r\n",
    "            pt_ws.PivotTables(pt_name).PivotFields(value).Position = i + 1\n",
    "\n",
    "    # Sets the Values of the pivot table\n",
    "    for field in pt_fields:\n",
    "        pt_ws.PivotTables(pt_name).AddDataField(pt_ws.PivotTables(pt_name).PivotFields(field[0]),\n",
    "                                                field[1], field[2]).NumberFormat = field[3]\n",
    "\n",
    "    # Visiblity True or Valse\n",
    "    pt_ws.PivotTables(pt_name).ShowValuesRow = True\n",
    "    pt_ws.PivotTables(pt_name).ColumnGrand = True\n",
    "    return"
   ]
  },
  {
   "cell_type": "markdown",
   "metadata": {},
   "source": [
    "        "
   ]
  },
  {
   "cell_type": "markdown",
   "metadata": {},
   "source": [
    "<a id=\"CPTF\"></a>\n",
    "### 3. Create excel file and call Pivot table function<br>\n",
    "\n",
    "__Summary:__ The function does below 4 tasks:\n",
    "<ol>\n",
    "    <li>Opens the excel file</li>\n",
    "    <li>Creates a pivot table worksheet</li>\n",
    "    <li>Calls the pivot function</li>\n",
    "    <li>Close the excel workbook, and save the results</li>\n",
    "    </ol>"
   ]
  },
  {
   "cell_type": "code",
   "execution_count": 6,
   "metadata": {},
   "outputs": [],
   "source": [
    "def run_excel(f_path: Path, f_name: str, sheet_name: str):\n",
    "\n",
    "    filename = f_path / f_name\n",
    "\n",
    "    # create excel object\n",
    "    excel = win32.gencache.EnsureDispatch('Excel.Application')\n",
    "\n",
    "    # excel can be visible or not\n",
    "    excel.Visible = False  # False\n",
    "    \n",
    "    # try except for file / path\n",
    "    try:\n",
    "        wb = excel.Workbooks.Open(filename)\n",
    "    except com_error as e:\n",
    "        if e.excepinfo[5] == -2146827284:\n",
    "            print(f'Failed to open spreadsheet.  Invalid filename or location: {filename}')\n",
    "        else:\n",
    "            raise e\n",
    "        sys.exit(1)\n",
    "\n",
    "    # set worksheet\n",
    "    ws1 = wb.Sheets('data')\n",
    "    \n",
    "    # Setup and call pivot_table\n",
    "    ws2_name = 'pivot_table'\n",
    "    wb.Sheets.Add().Name = ws2_name\n",
    "    ws2 = wb.Sheets(ws2_name)\n",
    "    \n",
    "    pt_name = 'Example'  # must be a string\n",
    "    pt_rows = ['Expense']  # must be a list\n",
    "    pt_cols = ['Products']  # must be a list\n",
    "    pt_filters = ['Date']  # must be a list\n",
    "    # [0]: field name [1]: pivot table column name [3]: calulation method [4]: number format\n",
    "    pt_fields = [['Price', 'Price: mean', win32c.xlAverage, '$#,##0.00'],  # must be a list of lists\n",
    "                 ['Price', 'Price: sum', win32c.xlSum, '$#,##0.00'],\n",
    "                 ['Price', 'Price: count', win32c.xlCount, '0']]\n",
    "    \n",
    "    pivot_table(wb, ws1, ws2, ws2_name, pt_name, pt_rows, pt_cols, pt_filters, pt_fields)\n",
    "    \n",
    "    # Close the excel file and save the changes\n",
    "    wb.Close(SaveChanges=1)\n",
    "    return"
   ]
  },
  {
   "cell_type": "markdown",
   "metadata": {},
   "source": [
    "       "
   ]
  },
  {
   "cell_type": "markdown",
   "metadata": {},
   "source": [
    "<a id=\"MF\"></a>\n",
    "### 4. Main function<br>\n",
    "\n",
    "__Summary:__ This function does below tasks:\n",
    "<ol>\n",
    "    <li>Create a Excel file with given name with data (calling function: create_test_excel_file)</li>\n",
    "    <li>Create pivot table (by calling: run_excel function)</li>\n",
    "    </ol>"
   ]
  },
  {
   "cell_type": "code",
   "execution_count": 7,
   "metadata": {},
   "outputs": [],
   "source": [
    "def main():\n",
    "    # sheet name for data\n",
    "    sheet_name = 'data'  # update with sheet name from your file\n",
    "    # file path\n",
    "    f_path = Path.cwd()  # file in current working directory\n",
    "#   f_path = Path(r'c:\\...\\Documents')  # file located somewhere else\n",
    "    # excel file\n",
    "    f_name = 'Test.xlsx'\n",
    "    \n",
    "    # function calls\n",
    "    create_excel_file(f_path, f_name, sheet_name)  # remove when running your own file\n",
    "    run_excel(f_path, f_name, sheet_name)"
   ]
  },
  {
   "cell_type": "code",
   "execution_count": 8,
   "metadata": {},
   "outputs": [],
   "source": [
    "main()"
   ]
  },
  {
   "cell_type": "markdown",
   "metadata": {},
   "source": [
    "      "
   ]
  },
  {
   "cell_type": "markdown",
   "metadata": {},
   "source": [
    "    "
   ]
  }
 ],
 "metadata": {
  "kernelspec": {
   "display_name": "Python 3",
   "language": "python",
   "name": "python3"
  },
  "language_info": {
   "codemirror_mode": {
    "name": "ipython",
    "version": 3
   },
   "file_extension": ".py",
   "mimetype": "text/x-python",
   "name": "python",
   "nbconvert_exporter": "python",
   "pygments_lexer": "ipython3",
   "version": "3.6.9"
  }
 },
 "nbformat": 4,
 "nbformat_minor": 2
}
